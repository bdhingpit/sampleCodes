{
 "cells": [
  {
   "cell_type": "code",
   "execution_count": 2,
   "metadata": {},
   "outputs": [
    {
     "name": "stderr",
     "output_type": "stream",
     "text": [
      "Using TensorFlow backend.\n"
     ]
    }
   ],
   "source": [
    "from keras.datasets import imdb\n",
    "from keras.layers import Dense\n",
    "from keras.models import Sequential\n",
    "import matplotlib.pyplot as plt\n",
    "import numpy as np"
   ]
  },
  {
   "cell_type": "code",
   "execution_count": 3,
   "metadata": {},
   "outputs": [],
   "source": [
    "(train_data, train_labels), (test_data, test_labels) = imdb.load_data(num_words=10000)"
   ]
  },
  {
   "cell_type": "code",
   "execution_count": 4,
   "metadata": {},
   "outputs": [],
   "source": [
    "def vectorize_sequences(sequences, dimension=10000):\n",
    "    results = np.zeros((len(sequences), dimension))\n",
    "    \n",
    "    for i, sequence in enumerate(sequences):\n",
    "        results[i, sequence] = 1\n",
    "        \n",
    "    return results"
   ]
  },
  {
   "cell_type": "code",
   "execution_count": 5,
   "metadata": {},
   "outputs": [],
   "source": [
    "x_train = vectorize_sequences(train_data)\n",
    "x_test = vectorize_sequences(test_data)\n",
    "y_train = np.asarray(train_labels).astype('float32')\n",
    "y_test = np.asarray(test_labels).astype('float32')"
   ]
  },
  {
   "cell_type": "code",
   "execution_count": 6,
   "metadata": {},
   "outputs": [],
   "source": [
    "model = Sequential()"
   ]
  },
  {
   "cell_type": "code",
   "execution_count": 7,
   "metadata": {},
   "outputs": [],
   "source": [
    "model.add(Dense(16, input_shape=(10000,), activation='relu'))\n",
    "model.add(Dense(16, activation='relu'))\n",
    "model.add(Dense(1, activation='sigmoid'))"
   ]
  },
  {
   "cell_type": "code",
   "execution_count": 8,
   "metadata": {},
   "outputs": [
    {
     "name": "stdout",
     "output_type": "stream",
     "text": [
      "Model: \"sequential_1\"\n",
      "_________________________________________________________________\n",
      "Layer (type)                 Output Shape              Param #   \n",
      "=================================================================\n",
      "dense_1 (Dense)              (None, 16)                160016    \n",
      "_________________________________________________________________\n",
      "dense_2 (Dense)              (None, 16)                272       \n",
      "_________________________________________________________________\n",
      "dense_3 (Dense)              (None, 1)                 17        \n",
      "=================================================================\n",
      "Total params: 160,305\n",
      "Trainable params: 160,305\n",
      "Non-trainable params: 0\n",
      "_________________________________________________________________\n"
     ]
    }
   ],
   "source": [
    "model.compile(optimizer='rmsprop',\n",
    "              loss='binary_crossentropy',\n",
    "              metrics=['accuracy'])\n",
    "\n",
    "model.summary()"
   ]
  },
  {
   "cell_type": "code",
   "execution_count": 9,
   "metadata": {},
   "outputs": [],
   "source": [
    "x_val = x_train[:10000]\n",
    "partial_x_train = x_train[10000:]\n",
    "\n",
    "y_val = y_train[:10000]\n",
    "partial_y_train = y_train[10000:]"
   ]
  },
  {
   "cell_type": "code",
   "execution_count": 10,
   "metadata": {},
   "outputs": [
    {
     "name": "stdout",
     "output_type": "stream",
     "text": [
      "Train on 15000 samples, validate on 10000 samples\n",
      "Epoch 1/20\n",
      "15000/15000 [==============================] - 29s 2ms/step - loss: 0.5465 - accuracy: 0.7633 - val_loss: 0.4246 - val_accuracy: 0.8696\n",
      "Epoch 2/20\n",
      "15000/15000 [==============================] - 11s 747us/step - loss: 0.3384 - accuracy: 0.9007 - val_loss: 0.3248 - val_accuracy: 0.8851\n",
      "Epoch 3/20\n",
      "15000/15000 [==============================] - 4s 260us/step - loss: 0.2435 - accuracy: 0.9255 - val_loss: 0.2881 - val_accuracy: 0.8908\n",
      "Epoch 4/20\n",
      "15000/15000 [==============================] - 3s 225us/step - loss: 0.1929 - accuracy: 0.9379 - val_loss: 0.2759 - val_accuracy: 0.8894\n",
      "Epoch 5/20\n",
      "15000/15000 [==============================] - 3s 225us/step - loss: 0.1566 - accuracy: 0.9499 - val_loss: 0.2824 - val_accuracy: 0.8869\n",
      "Epoch 6/20\n",
      "15000/15000 [==============================] - 3s 224us/step - loss: 0.1277 - accuracy: 0.9611 - val_loss: 0.3072 - val_accuracy: 0.8804\n",
      "Epoch 7/20\n",
      "15000/15000 [==============================] - 3s 225us/step - loss: 0.1071 - accuracy: 0.9685 - val_loss: 0.3081 - val_accuracy: 0.8837\n",
      "Epoch 8/20\n",
      "15000/15000 [==============================] - 3s 224us/step - loss: 0.0919 - accuracy: 0.9739 - val_loss: 0.3387 - val_accuracy: 0.8767\n",
      "Epoch 9/20\n",
      "15000/15000 [==============================] - 3s 224us/step - loss: 0.0738 - accuracy: 0.9813 - val_loss: 0.3645 - val_accuracy: 0.8747\n",
      "Epoch 10/20\n",
      "15000/15000 [==============================] - 3s 228us/step - loss: 0.0621 - accuracy: 0.9839 - val_loss: 0.3612 - val_accuracy: 0.8791\n",
      "Epoch 11/20\n",
      "15000/15000 [==============================] - 4s 243us/step - loss: 0.0489 - accuracy: 0.9890 - val_loss: 0.3960 - val_accuracy: 0.8771\n",
      "Epoch 12/20\n",
      "15000/15000 [==============================] - 4s 263us/step - loss: 0.0415 - accuracy: 0.9907 - val_loss: 0.4177 - val_accuracy: 0.8753\n",
      "Epoch 13/20\n",
      "15000/15000 [==============================] - 4s 255us/step - loss: 0.0322 - accuracy: 0.9937 - val_loss: 0.4654 - val_accuracy: 0.8712\n",
      "Epoch 14/20\n",
      "15000/15000 [==============================] - 3s 230us/step - loss: 0.0277 - accuracy: 0.9941 - val_loss: 0.4776 - val_accuracy: 0.8743\n",
      "Epoch 15/20\n",
      "15000/15000 [==============================] - 3s 229us/step - loss: 0.0198 - accuracy: 0.9967 - val_loss: 0.5115 - val_accuracy: 0.8713\n",
      "Epoch 16/20\n",
      "15000/15000 [==============================] - 4s 234us/step - loss: 0.0177 - accuracy: 0.9973 - val_loss: 0.5454 - val_accuracy: 0.8696\n",
      "Epoch 17/20\n",
      "15000/15000 [==============================] - 3s 233us/step - loss: 0.0103 - accuracy: 0.9994 - val_loss: 0.6943 - val_accuracy: 0.8501\n",
      "Epoch 18/20\n",
      "15000/15000 [==============================] - 3s 232us/step - loss: 0.0110 - accuracy: 0.9987 - val_loss: 0.6216 - val_accuracy: 0.8680\n",
      "Epoch 19/20\n",
      "15000/15000 [==============================] - 3s 232us/step - loss: 0.0062 - accuracy: 0.9997 - val_loss: 0.6968 - val_accuracy: 0.8624\n",
      "Epoch 20/20\n",
      "15000/15000 [==============================] - 4s 236us/step - loss: 0.0073 - accuracy: 0.9992 - val_loss: 0.6917 - val_accuracy: 0.8685\n"
     ]
    }
   ],
   "source": [
    "fitting_data = model.fit(partial_x_train,\n",
    "                         partial_y_train,\n",
    "                         epochs=20,\n",
    "                         batch_size=512,\n",
    "                         validation_data=(x_val, y_val))"
   ]
  },
  {
   "cell_type": "code",
   "execution_count": 11,
   "metadata": {},
   "outputs": [
    {
     "data": {
      "image/png": "[encoded data removed]",
      "text/plain": [
       "<Figure size 432x288 with 2 Axes>"
      ]
     },
     "metadata": {
      "needs_background": "light"
     },
     "output_type": "display_data"
    }
   ],
   "source": [
    "fig = plt.figure()\n",
    "ax1 = fig.add_subplot(211)\n",
    "ax2 = fig.add_subplot(212)\n",
    "\n",
    "ax1.plot(fitting_data.history['loss'], c='r')\n",
    "ax1.plot(fitting_data.history['val_loss'], c='g')\n",
    "\n",
    "ax2.plot(fitting_data.history['accuracy'], c='r')\n",
    "ax2.plot(fitting_data.history['val_accuracy'], c='g')\n",
    "\n",
    "plt.show()"
   ]
  },
  {
   "cell_type": "code",
   "execution_count": 32,
   "metadata": {},
   "outputs": [],
   "source": [
    "model2 = Sequential()"
   ]
  },
  {
   "cell_type": "code",
   "execution_count": 33,
   "metadata": {},
   "outputs": [
    {
     "name": "stdout",
     "output_type": "stream",
     "text": [
      "Model: \"sequential_4\"\n",
      "_________________________________________________________________\n",
      "Layer (type)                 Output Shape              Param #   \n",
      "=================================================================\n",
      "dense_19 (Dense)             (None, 16)                160016    \n",
      "_________________________________________________________________\n",
      "dense_20 (Dense)             (None, 16)                272       \n",
      "_________________________________________________________________\n",
      "dense_21 (Dense)             (None, 1)                 17        \n",
      "=================================================================\n",
      "Total params: 160,305\n",
      "Trainable params: 160,305\n",
      "Non-trainable params: 0\n",
      "_________________________________________________________________\n"
     ]
    }
   ],
   "source": [
    "model2.add(Dense(16, activation='relu', input_shape=(10000,)))\n",
    "model2.add(Dense(16, activation='relu'))\n",
    "model2.add(Dense(1, activation='sigmoid'))\n",
    "\n",
    "model2.compile(optimizer='rmsprop',\n",
    "              loss='binary_crossentropy',\n",
    "              metrics=['accuracy'])\n",
    "\n",
    "model2.summary()"
   ]
  },
  {
   "cell_type": "code",
   "execution_count": 34,
   "metadata": {},
   "outputs": [
    {
     "name": "stdout",
     "output_type": "stream",
     "text": [
      "Train on 15000 samples, validate on 10000 samples\n",
      "Epoch 1/5\n",
      "15000/15000 [==============================] - 13s 845us/step - loss: 0.5484 - accuracy: 0.7429 - val_loss: 0.4212 - val_accuracy: 0.8479\n",
      "Epoch 2/5\n",
      "15000/15000 [==============================] - 4s 235us/step - loss: 0.3306 - accuracy: 0.8973 - val_loss: 0.3289 - val_accuracy: 0.8783\n",
      "Epoch 3/5\n",
      "15000/15000 [==============================] - 3s 229us/step - loss: 0.2432 - accuracy: 0.9243 - val_loss: 0.3021 - val_accuracy: 0.8810\n",
      "Epoch 4/5\n",
      "15000/15000 [==============================] - 3s 228us/step - loss: 0.1899 - accuracy: 0.9404 - val_loss: 0.2810 - val_accuracy: 0.8858\n",
      "Epoch 5/5\n",
      "15000/15000 [==============================] - 4s 256us/step - loss: 0.1557 - accuracy: 0.9499 - val_loss: 0.2828 - val_accuracy: 0.8854\n"
     ]
    }
   ],
   "source": [
    "fitting_data = model2.fit(partial_x_train, \n",
    "                          partial_y_train, epochs=5, \n",
    "                          batch_size=512, \n",
    "                          validation_data=(x_val, y_val))"
   ]
  },
  {
   "cell_type": "code",
   "execution_count": 35,
   "metadata": {},
   "outputs": [
    {
     "data": {
      "image/png": "[encoded data removed]",
      "text/plain": [
       "<Figure size 432x288 with 2 Axes>"
      ]
     },
     "metadata": {
      "needs_background": "light"
     },
     "output_type": "display_data"
    }
   ],
   "source": [
    "fig = plt.figure()\n",
    "ax1 = fig.add_subplot(211)\n",
    "ax2 = fig.add_subplot(212)\n",
    "\n",
    "ax1.plot(fitting_data.history['loss'], c='r')\n",
    "ax1.plot(fitting_data.history['val_loss'], c='g')\n",
    "\n",
    "ax2.plot(fitting_data.history['accuracy'], c='r')\n",
    "ax2.plot(fitting_data.history['val_accuracy'], c='g')\n",
    "\n",
    "plt.show()"
   ]
  },
  {
   "cell_type": "code",
   "execution_count": 25,
   "metadata": {},
   "outputs": [
    {
     "data": {
      "text/plain": [
       "array([[0.00628689],\n",
       "       [0.99999815],\n",
       "       [0.6902405 ],\n",
       "       ...,\n",
       "       [0.00154421],\n",
       "       [0.00870442],\n",
       "       [0.9080291 ]], dtype=float32)"
      ]
     },
     "execution_count": 25,
     "metadata": {},
     "output_type": "execute_result"
    }
   ],
   "source": [
    "model.predict(x_test)"
   ]
  },
  {
   "cell_type": "code",
   "execution_count": null,
   "metadata": {},
   "outputs": [],
   "source": [
    "model2.predict(x_test)"
   ]
  }
 ],
 "metadata": {
  "kernelspec": {
   "display_name": "Python 3",
   "language": "python",
   "name": "python3"
  },
  "language_info": {
   "codemirror_mode": {
    "name": "ipython",
    "version": 3
   },
   "file_extension": ".py",
   "mimetype": "text/x-python",
   "name": "python",
   "nbconvert_exporter": "python",
   "pygments_lexer": "ipython3",
   "version": "3.7.6"
  }
 },
 "nbformat": 4,
 "nbformat_minor": 4
}
