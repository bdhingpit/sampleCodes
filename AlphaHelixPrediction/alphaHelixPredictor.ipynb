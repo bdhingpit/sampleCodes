{
 "cells": [
  {
   "cell_type": "code",
   "execution_count": 1,
   "metadata": {},
   "outputs": [
    {
     "name": "stderr",
     "output_type": "stream",
     "text": [
      "Using TensorFlow backend.\n"
     ]
    }
   ],
   "source": [
    "from keras.layers import Dense, LSTM\n",
    "from keras.models import Sequential\n",
    "import numpy as np\n",
    "from sklearn.model_selection import train_test_split\n",
    "import matplotlib.pyplot as plt"
   ]
  },
  {
   "cell_type": "code",
   "execution_count": 2,
   "metadata": {},
   "outputs": [],
   "source": [
    "def OHE_My_Sequence(list_of_sequences):\n",
    "    amino_acids = 'ACDEFGHIKLMNPQRSTVWY'\n",
    "    \n",
    "    #One hot encoding of the amino acid sequence\n",
    "    final_ohe_seq = []\n",
    "    for sequence in list_of_sequences:\n",
    "        ohe_sequence = [[1 if amino_acid == char else 0 \n",
    "                         for amino_acid in amino_acids] \n",
    "                         for char in sequence.strip('\\n')]\n",
    "        \n",
    "        final_ohe_seq.append(ohe_sequence)\n",
    "    \n",
    "    #Determine the amino acid sequence with max length\n",
    "    len_lists = [len(seq_lists) for seq_lists in final_ohe_seq]\n",
    "    max_len = max(len_lists)\n",
    "    \n",
    "    #Append zeros to the one-hot-encoded form until the length matches the max length\n",
    "    for seq_num, sequence in enumerate(final_ohe_seq):\n",
    "        for i in range(max_len - len(sequence)):\n",
    "            sequence = np.append(sequence, np.array([np.zeros(20)]), axis=0)\n",
    "        \n",
    "        final_ohe_seq[seq_num] = sequence\n",
    "    \n",
    "    return np.array(final_ohe_seq, dtype=int)\n",
    "            "
   ]
  },
  {
   "cell_type": "code",
   "execution_count": 3,
   "metadata": {},
   "outputs": [],
   "source": [
    "sequences = open('data/Data/Seq_With_Target/Sequence/all_seq.txt', 'r')\n",
    "targets = open('data/Data/Seq_With_Target/Target/all_targ.txt', 'r')\n",
    "\n",
    "array_ohe_seqs = OHE_My_Sequence(sequences)\n",
    "array_targets = np.array([value.strip('\\n') for value in targets])"
   ]
  },
  {
   "cell_type": "code",
   "execution_count": 4,
   "metadata": {},
   "outputs": [],
   "source": [
    "#Split the data to training and test set (80:20)\n",
    "x_train, x_test, y_train, y_test = train_test_split(array_ohe_seqs, \n",
    "                                                    array_targets, \n",
    "                                                    test_size=0.2, \n",
    "                                                    random_state=5)"
   ]
  },
  {
   "cell_type": "code",
   "execution_count": 5,
   "metadata": {},
   "outputs": [
    {
     "name": "stdout",
     "output_type": "stream",
     "text": [
      "(4903,)\n",
      "(4903, 41, 20)\n"
     ]
    }
   ],
   "source": [
    "#Check the dimensions of the training set\n",
    "print(y_train.shape)\n",
    "print(x_train.shape)"
   ]
  },
  {
   "cell_type": "code",
   "execution_count": 6,
   "metadata": {},
   "outputs": [
    {
     "name": "stdout",
     "output_type": "stream",
     "text": [
      "Model: \"sequential_1\"\n",
      "_________________________________________________________________\n",
      "Layer (type)                 Output Shape              Param #   \n",
      "=================================================================\n",
      "lstm_1 (LSTM)                (None, None, 128)         76288     \n",
      "_________________________________________________________________\n",
      "lstm_2 (LSTM)                (None, 128)               131584    \n",
      "_________________________________________________________________\n",
      "dense_1 (Dense)              (None, 1)                 129       \n",
      "=================================================================\n",
      "Total params: 208,001\n",
      "Trainable params: 208,001\n",
      "Non-trainable params: 0\n",
      "_________________________________________________________________\n"
     ]
    }
   ],
   "source": [
    "#Create the architecture of the neural network\n",
    "model = Sequential()\n",
    "\n",
    "model.add(LSTM(128, activation='sigmoid', input_shape=(None, 20), return_sequences=True))\n",
    "model.add(LSTM(128, activation='sigmoid', return_sequences=False))\n",
    "model.add(Dense(1, activation='sigmoid'))\n",
    "\n",
    "model.compile(loss='binary_crossentropy', optimizer='rmsprop', metrics=['accuracy'])\n",
    "\n",
    "model.summary()"
   ]
  },
  {
   "cell_type": "code",
   "execution_count": 7,
   "metadata": {},
   "outputs": [
    {
     "name": "stdout",
     "output_type": "stream",
     "text": [
      "Train on 4903 samples, validate on 1226 samples\n",
      "Epoch 1/10\n",
      "4903/4903 [==============================] - 202s 41ms/step - loss: 0.6944 - accuracy: 0.5566 - val_loss: 0.7004 - val_accuracy: 0.3989\n",
      "Epoch 2/10\n",
      "4903/4903 [==============================] - 199s 41ms/step - loss: 0.6851 - accuracy: 0.5752 - val_loss: 0.6609 - val_accuracy: 0.5237\n",
      "Epoch 3/10\n",
      "4903/4903 [==============================] - 203s 41ms/step - loss: 0.5346 - accuracy: 0.7659 - val_loss: 0.9600 - val_accuracy: 0.5881\n",
      "Epoch 4/10\n",
      "4903/4903 [==============================] - 201s 41ms/step - loss: 0.5077 - accuracy: 0.7858 - val_loss: 0.5498 - val_accuracy: 0.7781\n",
      "Epoch 5/10\n",
      "4903/4903 [==============================] - 193s 39ms/step - loss: 0.5098 - accuracy: 0.7946 - val_loss: 0.4511 - val_accuracy: 0.8173\n",
      "Epoch 6/10\n",
      "4903/4903 [==============================] - 193s 39ms/step - loss: 0.5101 - accuracy: 0.7942 - val_loss: 0.4135 - val_accuracy: 0.8295\n",
      "Epoch 7/10\n",
      "4903/4903 [==============================] - 197s 40ms/step - loss: 0.5055 - accuracy: 0.7936 - val_loss: 0.4139 - val_accuracy: 0.8344\n",
      "Epoch 8/10\n",
      "4903/4903 [==============================] - 189s 39ms/step - loss: 0.5017 - accuracy: 0.7989 - val_loss: 0.4114 - val_accuracy: 0.8328\n",
      "Epoch 9/10\n",
      "4903/4903 [==============================] - 194s 40ms/step - loss: 0.5095 - accuracy: 0.7969 - val_loss: 0.4470 - val_accuracy: 0.8336\n",
      "Epoch 10/10\n",
      "4903/4903 [==============================] - 192s 39ms/step - loss: 0.5003 - accuracy: 0.8066 - val_loss: 0.4152 - val_accuracy: 0.8271\n"
     ]
    }
   ],
   "source": [
    "history = model.fit(x_train, y_train, epochs=10, batch_size=1, validation_data=(x_test, y_test))"
   ]
  },
  {
   "cell_type": "code",
   "execution_count": 8,
   "metadata": {},
   "outputs": [],
   "source": [
    "result = model.predict(x_test)"
   ]
  },
  {
   "cell_type": "code",
   "execution_count": 9,
   "metadata": {},
   "outputs": [
    {
     "data": {
      "image/png": "[encoded data removed]",
      "text/plain": [
       "<Figure size 432x288 with 2 Axes>"
      ]
     },
     "metadata": {
      "needs_background": "light"
     },
     "output_type": "display_data"
    }
   ],
   "source": [
    "fig = plt.figure()\n",
    "ax1 = fig.add_subplot(211)\n",
    "ax2 = fig.add_subplot(212)\n",
    "\n",
    "ax1.plot(history.history['loss'], c='r')\n",
    "ax1.plot(history.history['val_loss'], c='g')\n",
    "ax2.plot(history.history['accuracy'], c='r')\n",
    "ax2.plot(history.history['val_accuracy'], c='g')\n",
    "\n",
    "plt.show()"
   ]
  },
  {
   "cell_type": "code",
   "execution_count": 39,
   "metadata": {},
   "outputs": [
    {
     "data": {
      "image/png": "[encoded data removed]",
      "text/plain": [
       "<Figure size 432x288 with 1 Axes>"
      ]
     },
     "metadata": {
      "needs_background": "light"
     },
     "output_type": "display_data"
    }
   ],
   "source": [
    "plt.scatter(range(1226), result, c='g')\n",
    "plt.scatter(range(1226), y_test, c='r')\n",
    "\n",
    "plt.show()"
   ]
  },
  {
   "cell_type": "code",
   "execution_count": 7,
   "metadata": {},
   "outputs": [
    {
     "name": "stdout",
     "output_type": "stream",
     "text": [
      "Model: \"sequential_1\"\n",
      "_________________________________________________________________\n",
      "Layer (type)                 Output Shape              Param #   \n",
      "=================================================================\n",
      "lstm_1 (LSTM)                (None, None, 64)          21760     \n",
      "_________________________________________________________________\n",
      "lstm_2 (LSTM)                (None, 64)                33024     \n",
      "_________________________________________________________________\n",
      "dense_1 (Dense)              (None, 1)                 65        \n",
      "=================================================================\n",
      "Total params: 54,849\n",
      "Trainable params: 54,849\n",
      "Non-trainable params: 0\n",
      "_________________________________________________________________\n"
     ]
    }
   ],
   "source": [
    "model2 = Sequential()\n",
    "\n",
    "model2.add(LSTM(64, activation='sigmoid', input_shape=(None, 20), return_sequences=True))\n",
    "model2.add(LSTM(64, activation='sigmoid', return_sequences=False))\n",
    "model2.add(Dense(1, activation='sigmoid'))\n",
    "\n",
    "model2.compile(loss='binary_crossentropy', optimizer='rmsprop', metrics=['accuracy'])\n",
    "\n",
    "model2.summary()"
   ]
  },
  {
   "cell_type": "code",
   "execution_count": 8,
   "metadata": {},
   "outputs": [
    {
     "name": "stdout",
     "output_type": "stream",
     "text": [
      "Train on 4903 samples, validate on 1226 samples\n",
      "Epoch 1/10\n",
      "4903/4903 [==============================] - 175s 36ms/step - loss: 0.6915 - accuracy: 0.5623 - val_loss: 0.6785 - val_accuracy: 0.6011\n",
      "Epoch 2/10\n",
      "4903/4903 [==============================] - 173s 35ms/step - loss: 0.6869 - accuracy: 0.5756 - val_loss: 0.6913 - val_accuracy: 0.6011\n",
      "Epoch 3/10\n",
      "4903/4903 [==============================] - 173s 35ms/step - loss: 0.6851 - accuracy: 0.5729 - val_loss: 0.6698 - val_accuracy: 0.6011\n",
      "Epoch 4/10\n",
      "4903/4903 [==============================] - 173s 35ms/step - loss: 0.5643 - accuracy: 0.7079 - val_loss: 0.4020 - val_accuracy: 0.8279\n",
      "Epoch 5/10\n",
      "4903/4903 [==============================] - 172s 35ms/step - loss: 0.4860 - accuracy: 0.7985 - val_loss: 0.4907 - val_accuracy: 0.8222\n",
      "Epoch 6/10\n",
      "4903/4903 [==============================] - 172s 35ms/step - loss: 0.4778 - accuracy: 0.8058 - val_loss: 0.3786 - val_accuracy: 0.8361\n",
      "Epoch 7/10\n",
      "4903/4903 [==============================] - 182s 37ms/step - loss: 0.4811 - accuracy: 0.8050 - val_loss: 0.3803 - val_accuracy: 0.8426\n",
      "Epoch 8/10\n",
      "4903/4903 [==============================] - 182s 37ms/step - loss: 0.4826 - accuracy: 0.8122 - val_loss: 0.4063 - val_accuracy: 0.8393\n",
      "Epoch 9/10\n",
      "4903/4903 [==============================] - 175s 36ms/step - loss: 0.4732 - accuracy: 0.8083 - val_loss: 0.3877 - val_accuracy: 0.8434\n",
      "Epoch 10/10\n",
      "4903/4903 [==============================] - 173s 35ms/step - loss: 0.4840 - accuracy: 0.8075 - val_loss: 0.4059 - val_accuracy: 0.8418\n"
     ]
    }
   ],
   "source": [
    "history2 = model2.fit(x_train, y_train, epochs=10, batch_size=1, validation_data=(x_test, y_test))"
   ]
  },
  {
   "cell_type": "code",
   "execution_count": 10,
   "metadata": {},
   "outputs": [
    {
     "data": {
      "image/png": "[encoded data removed]",
      "text/plain": [
       "<Figure size 432x288 with 2 Axes>"
      ]
     },
     "metadata": {
      "needs_background": "light"
     },
     "output_type": "display_data"
    }
   ],
   "source": [
    "fig = plt.figure()\n",
    "ax1 = fig.add_subplot(211)\n",
    "ax2 = fig.add_subplot(212)\n",
    "\n",
    "ax1.plot(history2.history['loss'], c='r')\n",
    "ax1.plot(history2.history['val_loss'], c='g')\n",
    "ax2.plot(history2.history['accuracy'], c='r')\n",
    "ax2.plot(history2.history['val_accuracy'], c='g')\n",
    "\n",
    "plt.show()"
   ]
  },
  {
   "cell_type": "code",
   "execution_count": 74,
   "metadata": {},
   "outputs": [],
   "source": [
    "result2 = model2.predict(x_test)"
   ]
  },
  {
   "cell_type": "code",
   "execution_count": 15,
   "metadata": {},
   "outputs": [
    {
     "data": {
      "image/png": "[encoded data removed]",
      "text/plain": [
       "<Figure size 432x288 with 1 Axes>"
      ]
     },
     "metadata": {
      "needs_background": "light"
     },
     "output_type": "display_data"
    }
   ],
   "source": [
    "plt.scatter(range(1226), result2, c='g')\n",
    "plt.scatter(range(1226), y_test, c='r')\n",
    "\n",
    "plt.show()"
   ]
  },
  {
   "cell_type": "code",
   "execution_count": 58,
   "metadata": {},
   "outputs": [
    {
     "data": {
      "text/plain": [
       "'0'"
      ]
     },
     "execution_count": 58,
     "metadata": {},
     "output_type": "execute_result"
    }
   ],
   "source": [
    "y_test[1]"
   ]
  },
  {
   "cell_type": "code",
   "execution_count": 10,
   "metadata": {},
   "outputs": [
    {
     "name": "stdout",
     "output_type": "stream",
     "text": [
      "739\n",
      "480\n"
     ]
    }
   ],
   "source": [
    "print(len(np.where(result <= 0.49)[0]))\n",
    "print(len(np.where(result >= 0.51)[0]))"
   ]
  },
  {
   "cell_type": "code",
   "execution_count": 11,
   "metadata": {},
   "outputs": [
    {
     "name": "stdout",
     "output_type": "stream",
     "text": [
      "737\n",
      "489\n"
     ]
    }
   ],
   "source": [
    "y_test_reshaped = np.array(y_test, dtype=int).reshape(1226, 1)\n",
    "print(len(np.where(y_test_reshaped == 0)[0]))\n",
    "print(len(np.where(y_test_reshaped == 1)[0]))"
   ]
  },
  {
   "cell_type": "code",
   "execution_count": 12,
   "metadata": {},
   "outputs": [
    {
     "name": "stdout",
     "output_type": "stream",
     "text": [
      "630\n"
     ]
    }
   ],
   "source": [
    "lower_bound = 0\n",
    "for seq_num in np.where(result <= 0.49)[0]:\n",
    "    if int(y_test[seq_num]) == 0:\n",
    "        lower_bound += 1\n",
    "\n",
    "print(lower_bound)"
   ]
  },
  {
   "cell_type": "code",
   "execution_count": 13,
   "metadata": {},
   "outputs": [
    {
     "name": "stdout",
     "output_type": "stream",
     "text": [
      "378\n"
     ]
    }
   ],
   "source": [
    "upper_bound = 0\n",
    "for seq_num in np.where(result >= 0.51)[0]:\n",
    "    if int(y_test[seq_num]) == 1:\n",
    "        upper_bound += 1\n",
    "\n",
    "print(upper_bound)"
   ]
  },
  {
   "cell_type": "code",
   "execution_count": 20,
   "metadata": {},
   "outputs": [
    {
     "data": {
      "text/plain": [
       "array([[0.19930466]], dtype=float32)"
      ]
     },
     "execution_count": 20,
     "metadata": {},
     "output_type": "execute_result"
    }
   ],
   "source": [
    "test1_data = ['AGTVYYP']\n",
    "test1_data_processed = OHE_My_Sequence(test1_data)\n",
    "test1_result = model.predict(test1_data_processed)\n",
    "test1_result"
   ]
  },
  {
   "cell_type": "code",
   "execution_count": null,
   "metadata": {},
   "outputs": [],
   "source": []
  }
 ],
 "metadata": {
  "kernelspec": {
   "display_name": "Python 3",
   "language": "python",
   "name": "python3"
  },
  "language_info": {
   "codemirror_mode": {
    "name": "ipython",
    "version": 3
   },
   "file_extension": ".py",
   "mimetype": "text/x-python",
   "name": "python",
   "nbconvert_exporter": "python",
   "pygments_lexer": "ipython3",
   "version": "3.7.6"
  }
 },
 "nbformat": 4,
 "nbformat_minor": 4
}
